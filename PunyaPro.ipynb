{
 "cells": [
  {
   "cell_type": "code",
   "execution_count": 8,
   "metadata": {},
   "outputs": [],
   "source": [
    "import datetime\n",
    "class Vendor:\n",
    "    def __init__(self, name):\n",
    "        self.name = name\n",
    "        self.ol = []\n",
    "    def placeOrder(self, o):\n",
    "        self.ol.append(o)\n",
    "        for states in o.sqd.keys():\n",
    "            self.courier = [o.sqd[states], o.oid, o.vid, datetime.datetime.now()]\n",
    "            states.recieveCourier(self.courier)    \n",
    "    def recievedCourier(self, oid, sid):\n",
    "        for o in self.ol:\n",
    "            if o.oid == oid:\n",
    "                for s in o.sqd.keys():\n",
    "                    if s.id == sid:\n",
    "                        o.sqd[s] = 0\n",
    "                print('Courier Delivered at state -', sid)\n",
    "        delivered = 1\n",
    "        for o in self.ol:\n",
    "            for s in o.sqd.keys():\n",
    "                if o.sqd[s] != 0:\n",
    "                    delivered = 0\n",
    "                    break\n",
    "            if delivered == 1:\n",
    "                print('Delivered')\n",
    "    def __str__(self):\n",
    "        return self.name"
   ]
  },
  {
   "cell_type": "code",
   "execution_count": 9,
   "metadata": {},
   "outputs": [],
   "source": [
    "class Sales:\n",
    "    def __init__(self, id):\n",
    "        self.id = id \n",
    "        \n",
    "    def recieveCourier(self, c):\n",
    "        print('Courier Recieved at state -', self.id, 'from vendor', c[2].name, 'with quantity:', c[0], 'on ', c[-1])\n",
    "        c[2].recievedCourier(c[1], self.id)\n",
    "        \n",
    "    def __str__(self):\n",
    "        return 's-'+str(self.id)"
   ]
  },
  {
   "cell_type": "code",
   "execution_count": 10,
   "metadata": {},
   "outputs": [],
   "source": [
    "class Order:\n",
    "    def __init__(self, oid, mid, vid, sqd):\n",
    "        self.oid = oid\n",
    "        self.mid = mid\n",
    "        self.vid = vid\n",
    "        self.sqd = sqd"
   ]
  },
  {
   "cell_type": "code",
   "execution_count": 11,
   "metadata": {},
   "outputs": [],
   "source": [
    "s1 = Sales(1)\n",
    "s2 = Sales(2)\n",
    "s3 = Sales(3)\n",
    "s4 = Sales(4)\n",
    "s5 = Sales(5)\n",
    "\n",
    "sales = [s1, s2, s3, s4, s5]\n",
    "\n",
    "class MarketingTeam:\n",
    "    def __init__(self, mid):\n",
    "        self.ol = []\n",
    "        self.mid = mid\n",
    "    def prepareOrder(self, vid):\n",
    "        sqd = {}\n",
    "        oid = len(self.ol)\n",
    "        if vid == 1:\n",
    "            v = Vendor('keyChain')\n",
    "        if vid == 2:\n",
    "            v = Vendor('stamp')\n",
    "        if vid == 3:\n",
    "            v = Vendor('poster')\n",
    "        for i in range(5):\n",
    "            sqd[sales[i]] = int(input('Enter quantity of items for state - '+str(i+1)+' '))\n",
    "        o = Order(oid+1, self.mid, v, sqd)\n",
    "        self.ol.append(o)\n",
    "    def placeOrder(self, oid):\n",
    "        self.ol[oid-1].vid.placeOrder(self.ol[oid-1])"
   ]
  },
  {
   "cell_type": "code",
   "execution_count": 12,
   "metadata": {},
   "outputs": [
    {
     "name": "stdout",
     "output_type": "stream",
     "text": [
      "Vendor - 1: keyChain\n",
      "Vendor - 2: stamp\n",
      "Vendor - 3: poster\n",
      "Prepare Order for vendor -  1\n",
      "Enter quantity of items for state - 1 45\n",
      "Enter quantity of items for state - 2 34\n",
      "Enter quantity of items for state - 3 54\n",
      "Enter quantity of items for state - 4 65\n",
      "Enter quantity of items for state - 5 76\n",
      "Prepare Order for vendor -  2\n",
      "Enter quantity of items for state - 1 76\n",
      "Enter quantity of items for state - 2 87\n",
      "Enter quantity of items for state - 3 56\n",
      "Enter quantity of items for state - 4 34\n",
      "Enter quantity of items for state - 5 54\n",
      "Prepare Order for vendor -  3\n",
      "Enter quantity of items for state - 1 65\n",
      "Enter quantity of items for state - 2 76\n",
      "Enter quantity of items for state - 3 76\n",
      "Enter quantity of items for state - 4 87\n",
      "Enter quantity of items for state - 5 23\n",
      "Placing Order for vendor -  1\n",
      "Courier Recieved at state - 1 from vendor keyChain with quantity: 45 on  2020-05-15 23:12:51.487179\n",
      "Courier Delivered at state - 1\n",
      "Courier Recieved at state - 2 from vendor keyChain with quantity: 34 on  2020-05-15 23:12:51.488177\n",
      "Courier Delivered at state - 2\n",
      "Courier Recieved at state - 3 from vendor keyChain with quantity: 54 on  2020-05-15 23:12:51.489174\n",
      "Courier Delivered at state - 3\n",
      "Courier Recieved at state - 4 from vendor keyChain with quantity: 65 on  2020-05-15 23:12:51.492166\n",
      "Courier Delivered at state - 4\n",
      "Courier Recieved at state - 5 from vendor keyChain with quantity: 76 on  2020-05-15 23:12:51.493163\n",
      "Courier Delivered at state - 5\n",
      "Delivered\n",
      "Placing Order for vendor -  2\n",
      "Courier Recieved at state - 1 from vendor stamp with quantity: 76 on  2020-05-15 23:12:51.496155\n",
      "Courier Delivered at state - 1\n",
      "Courier Recieved at state - 2 from vendor stamp with quantity: 87 on  2020-05-15 23:12:51.497153\n",
      "Courier Delivered at state - 2\n",
      "Courier Recieved at state - 3 from vendor stamp with quantity: 56 on  2020-05-15 23:12:51.497153\n",
      "Courier Delivered at state - 3\n",
      "Courier Recieved at state - 4 from vendor stamp with quantity: 34 on  2020-05-15 23:12:51.499159\n",
      "Courier Delivered at state - 4\n",
      "Courier Recieved at state - 5 from vendor stamp with quantity: 54 on  2020-05-15 23:12:51.500148\n",
      "Courier Delivered at state - 5\n",
      "Delivered\n",
      "Placing Order for vendor -  3\n",
      "Courier Recieved at state - 1 from vendor poster with quantity: 65 on  2020-05-15 23:12:51.501142\n",
      "Courier Delivered at state - 1\n",
      "Courier Recieved at state - 2 from vendor poster with quantity: 76 on  2020-05-15 23:12:51.501142\n",
      "Courier Delivered at state - 2\n",
      "Courier Recieved at state - 3 from vendor poster with quantity: 76 on  2020-05-15 23:12:51.502138\n",
      "Courier Delivered at state - 3\n",
      "Courier Recieved at state - 4 from vendor poster with quantity: 87 on  2020-05-15 23:12:51.502138\n",
      "Courier Delivered at state - 4\n",
      "Courier Recieved at state - 5 from vendor poster with quantity: 23 on  2020-05-15 23:12:51.505129\n",
      "Courier Delivered at state - 5\n",
      "Delivered\n"
     ]
    }
   ],
   "source": [
    "print('Vendor - 1: keyChain')\n",
    "print('Vendor - 2: stamp')\n",
    "print('Vendor - 3: poster')\n",
    "mt = MarketingTeam(1)\n",
    "for v in range(3):\n",
    "    print('Prepare Order for vendor - ', v+1)\n",
    "    mt.prepareOrder(v+1)\n",
    "for i in range(3):\n",
    "    print('Placing Order for vendor - ', i+1)\n",
    "    mt.placeOrder(i+1)"
   ]
  },
  {
   "cell_type": "markdown",
   "metadata": {},
   "source": [
    "### "
   ]
  },
  {
   "cell_type": "code",
   "execution_count": null,
   "metadata": {},
   "outputs": [],
   "source": []
  }
 ],
 "metadata": {
  "kernelspec": {
   "display_name": "Python 3",
   "language": "python",
   "name": "python3"
  },
  "language_info": {
   "codemirror_mode": {
    "name": "ipython",
    "version": 3
   },
   "file_extension": ".py",
   "mimetype": "text/x-python",
   "name": "python",
   "nbconvert_exporter": "python",
   "pygments_lexer": "ipython3",
   "version": "3.7.4"
  }
 },
 "nbformat": 4,
 "nbformat_minor": 2
}
